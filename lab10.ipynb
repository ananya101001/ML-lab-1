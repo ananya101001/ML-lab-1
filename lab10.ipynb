{
 "cells": [
  {
   "cell_type": "code",
   "execution_count": 7,
   "metadata": {},
   "outputs": [
    {
     "name": "stdout",
     "output_type": "stream",
     "text": [
      "Collecting pip\n",
      "\u001b[?25l  Downloading https://files.pythonhosted.org/packages/54/eb/4a3642e971f404d69d4f6fa3885559d67562801b99d7592487f1ecc4e017/pip-20.3.3-py2.py3-none-any.whl (1.5MB)\n",
      "\u001b[K    100% |████████████████████████████████| 1.5MB 2.3MB/s ta 0:00:011    54% |█████████████████▌              | 829kB 5.9MB/s eta 0:00:01\n",
      "\u001b[31mdistributed 1.21.8 requires msgpack, which is not installed.\u001b[0m\n",
      "\u001b[31mpgmpy 0.1.13 requires torch, which is not installed.\u001b[0m\n",
      "\u001b[?25hInstalling collected packages: pip\n",
      "  Found existing installation: pip 10.0.1\n",
      "    Uninstalling pip-10.0.1:\n",
      "      Successfully uninstalled pip-10.0.1\n",
      "Successfully installed pip-20.3.3\n"
     ]
    }
   ],
   "source": [
    "!pip install --upgrade pip\n"
   ]
  },
  {
   "cell_type": "code",
   "execution_count": 8,
   "metadata": {},
   "outputs": [
    {
     "name": "stdout",
     "output_type": "stream",
     "text": [
      "Collecting llvmlite\n",
      "  Downloading llvmlite-0.35.0-cp36-cp36m-manylinux2010_i686.whl (27.4 MB)\n",
      "\u001b[K     |████████████████████████████████| 27.4 MB 65 kB/s  eta 0:00:01    |▏                               | 122 kB 1.6 MB/s eta 0:00:18     |█████▉                          | 5.0 MB 2.6 MB/s eta 0:00:09     |████████████████████████▏       | 20.7 MB 1.2 MB/s eta 0:00:06     |██████████████████████████▋     | 22.8 MB 2.4 MB/s eta 0:00:02\n",
      "\u001b[?25hInstalling collected packages: llvmlite\n",
      "Successfully installed llvmlite-0.35.0\n"
     ]
    }
   ],
   "source": [
    "!pip install --ignore-installed llvmlite\n"
   ]
  },
  {
   "cell_type": "code",
   "execution_count": 12,
   "metadata": {},
   "outputs": [
    {
     "name": "stdout",
     "output_type": "stream",
     "text": [
      "Collecting scikit-lego\n",
      "  Using cached scikit_lego-0.6.3-py2.py3-none-any.whl (212 kB)\n",
      "Collecting autograd>=1.2\n",
      "  Using cached autograd-1.3.tar.gz (38 kB)\n",
      "Collecting Deprecated>=1.2.6\n",
      "  Using cached Deprecated-1.2.10-py2.py3-none-any.whl (8.7 kB)\n",
      "Requirement already satisfied: wrapt<2,>=1.10 in ./anaconda3/lib/python3.6/site-packages (from Deprecated>=1.2.6->scikit-lego) (1.10.11)\n",
      "Collecting future>=0.15.2\n",
      "  Using cached future-0.18.2.tar.gz (829 kB)\n",
      "Collecting numpy>=1.16.0\n",
      "  Using cached numpy-1.19.5-cp36-cp36m-manylinux2010_i686.whl (12.6 MB)\n",
      "Collecting pandas>=0.23.4\n",
      "  Downloading pandas-1.1.5-cp36-cp36m-manylinux1_i686.whl (9.1 MB)\n",
      "\u001b[K     |████████████████████████████████| 9.1 MB 186 kB/s eta 0:00:01\n",
      "\u001b[?25hRequirement already satisfied: pytz>=2017.2 in ./anaconda3/lib/python3.6/site-packages (from pandas>=0.23.4->scikit-lego) (2018.4)\n",
      "Requirement already satisfied: python-dateutil>=2.7.3 in ./anaconda3/lib/python3.6/site-packages (from pandas>=0.23.4->scikit-lego) (2.7.3)\n",
      "Collecting patsy>=0.5.1\n",
      "  Downloading patsy-0.5.1-py2.py3-none-any.whl (231 kB)\n",
      "\u001b[K     |████████████████████████████████| 231 kB 292 kB/s eta 0:00:01\n",
      "\u001b[?25hRequirement already satisfied: six in ./anaconda3/lib/python3.6/site-packages (from patsy>=0.5.1->scikit-lego) (1.11.0)\n",
      "Collecting scikit-learn>=0.20.2\n",
      "  Downloading scikit_learn-0.24.0-cp36-cp36m-manylinux2010_i686.whl (21.1 MB)\n",
      "\u001b[K     |████████████████████████████████| 21.1 MB 198 kB/s eta 0:00:01    |█████████████▉                  | 9.1 MB 226 kB/s eta 0:00:53\n",
      "\u001b[?25hRequirement already satisfied: joblib>=0.11 in ./anaconda3/lib/python3.6/site-packages/joblib-1.0.0-py3.6.egg (from scikit-learn>=0.20.2->scikit-lego) (1.0.0)\n",
      "Collecting scipy>=1.2.0\n",
      "  Downloading scipy-1.5.4-cp36-cp36m-manylinux1_i686.whl (22.8 MB)\n",
      "\u001b[K     |████████████████████████████████| 22.8 MB 249 kB/s eta 0:00:01    |███████▌                        | 5.4 MB 183 kB/s eta 0:01:36     |████████████                    | 8.6 MB 273 kB/s eta 0:00:53     |██████████████▋                 | 10.4 MB 166 kB/s eta 0:01:15     |██████████████████████▉         | 16.3 MB 73 kB/s eta 0:01:29\n",
      "\u001b[?25hCollecting threadpoolctl>=2.0.0\n",
      "  Downloading threadpoolctl-2.1.0-py3-none-any.whl (12 kB)\n",
      "Collecting umap-learn>=0.4.3\n",
      "  Downloading umap-learn-0.5.0.tar.gz (81 kB)\n",
      "\u001b[K     |████████████████████████████████| 81 kB 269 kB/s eta 0:00:01\n",
      "\u001b[?25hCollecting numba>=0.49\n",
      "  Downloading numba-0.52.0-cp36-cp36m-manylinux2014_i686.whl (2.7 MB)\n",
      "\u001b[K     |████████████████████████████████| 2.7 MB 245 kB/s eta 0:00:01\n",
      "\u001b[?25hRequirement already satisfied: setuptools in ./anaconda3/lib/python3.6/site-packages (from numba>=0.49->umap-learn>=0.4.3->scikit-lego) (39.1.0)\n",
      "Requirement already satisfied: llvmlite<0.36,>=0.35.0 in ./anaconda3/lib/python3.6/site-packages (from numba>=0.49->umap-learn>=0.4.3->scikit-lego) (0.35.0)\n",
      "Collecting pynndescent>=0.5\n",
      "  Downloading pynndescent-0.5.1.tar.gz (1.1 MB)\n",
      "\u001b[K     |████████████████████████████████| 1.1 MB 315 kB/s eta 0:00:01\n",
      "\u001b[?25hBuilding wheels for collected packages: autograd, future, umap-learn, pynndescent\n",
      "  Building wheel for autograd (setup.py) ... \u001b[?25ldone\n",
      "\u001b[?25h  Created wheel for autograd: filename=autograd-1.3-py3-none-any.whl size=47993 sha256=c00adcb21dc780c7b65ebc1e8ffd0cead226fc3283554084fed9fd0062107106\n",
      "  Stored in directory: /home/mite/.cache/pip/wheels/b2/a5/3c/929b91003a3b75a175ccba7cef35200a1890cdb46903f18072\n",
      "  Building wheel for future (setup.py) ... \u001b[?25ldone\n",
      "\u001b[?25h  Created wheel for future: filename=future-0.18.2-py3-none-any.whl size=491096 sha256=130476e1eb130cc4ec0866f0dbc43a02f1613618b66464d2c1459991655efefa\n",
      "  Stored in directory: /home/mite/.cache/pip/wheels/6e/9c/ed/4499c9865ac1002697793e0ae05ba6be33553d098f3347fb94\n",
      "  Building wheel for umap-learn (setup.py) ... \u001b[?25ldone\n",
      "\u001b[?25h  Created wheel for umap-learn: filename=umap_learn-0.5.0-py3-none-any.whl size=76338 sha256=da77dc3ee2936d8604bdd82c34da2fd67886987c4aad75c3d3faa35e9c57ba58\n",
      "  Stored in directory: /home/mite/.cache/pip/wheels/0f/5d/29/5cd3a2d421c30044eac80b8522cd326345b32481c1b59b7b94\n",
      "  Building wheel for pynndescent (setup.py) ... \u001b[?25ldone\n",
      "\u001b[?25h  Created wheel for pynndescent: filename=pynndescent-0.5.1-py3-none-any.whl size=47723 sha256=45defcb741e0d7bd1d43007d48f51c3de61f78d3f1a223bdeda86795c1fb284e\n",
      "  Stored in directory: /home/mite/.cache/pip/wheels/d1/70/8a/960fe6401a79b4e799e754974a7b6f568531e8fb40987e2772\n",
      "Successfully built autograd future umap-learn pynndescent\n",
      "Installing collected packages: numpy, threadpoolctl, scipy, scikit-learn, numba, pynndescent, future, umap-learn, patsy, pandas, Deprecated, autograd, scikit-lego\n",
      "  Attempting uninstall: numpy\n",
      "    Found existing installation: numpy 1.14.3\n",
      "    Uninstalling numpy-1.14.3:\n",
      "      Successfully uninstalled numpy-1.14.3\n",
      "  Attempting uninstall: scipy\n",
      "    Found existing installation: scipy 1.1.0\n",
      "    Uninstalling scipy-1.1.0:\n",
      "      Successfully uninstalled scipy-1.1.0\n",
      "  Attempting uninstall: scikit-learn\n",
      "    Found existing installation: scikit-learn 0.19.1\n",
      "    Uninstalling scikit-learn-0.19.1:\n",
      "      Successfully uninstalled scikit-learn-0.19.1\n",
      "  Attempting uninstall: numba\n",
      "    Found existing installation: numba 0.38.0\n",
      "    Uninstalling numba-0.38.0:\n",
      "      Successfully uninstalled numba-0.38.0\n",
      "  Attempting uninstall: patsy\n",
      "    Found existing installation: patsy 0.5.0\n",
      "    Uninstalling patsy-0.5.0:\n",
      "      Successfully uninstalled patsy-0.5.0\n",
      "  Attempting uninstall: pandas\n",
      "    Found existing installation: pandas 0.23.0\n",
      "    Uninstalling pandas-0.23.0:\n",
      "      Successfully uninstalled pandas-0.23.0\n",
      "\u001b[31mERROR: pip's dependency resolver does not currently take into account all the packages that are installed. This behaviour is the source of the following dependency conflicts.\n",
      "pgmpy 0.1.13 requires torch, which is not installed.\u001b[0m\n",
      "Successfully installed Deprecated-1.2.10 autograd-1.3 future-0.18.2 numba-0.52.0 numpy-1.19.5 pandas-1.1.5 patsy-0.5.1 pynndescent-0.5.1 scikit-learn-0.24.0 scikit-lego-0.6.3 scipy-1.5.4 threadpoolctl-2.1.0 umap-learn-0.5.0\n"
     ]
    }
   ],
   "source": [
    "!python -m pip install scikit-lego"
   ]
  },
  {
   "cell_type": "code",
   "execution_count": 16,
   "metadata": {},
   "outputs": [
    {
     "ename": "ImportError",
     "evalue": "this version of pandas is incompatible with numpy < 1.15.4\nyour numpy version is 1.14.3.\nPlease upgrade numpy to >= 1.15.4 to use this pandas version",
     "output_type": "error",
     "traceback": [
      "\u001b[0;31m---------------------------------------------------------------------------\u001b[0m",
      "\u001b[0;31mImportError\u001b[0m                               Traceback (most recent call last)",
      "\u001b[0;32m<ipython-input-16-88d5d2799974>\u001b[0m in \u001b[0;36m<module>\u001b[0;34m()\u001b[0m\n\u001b[1;32m      1\u001b[0m \u001b[0;32mimport\u001b[0m \u001b[0mmatplotlib\u001b[0m\u001b[0;34m.\u001b[0m\u001b[0mpylab\u001b[0m \u001b[0;32mas\u001b[0m \u001b[0mplt\u001b[0m\u001b[0;34m\u001b[0m\u001b[0m\n\u001b[0;32m----> 2\u001b[0;31m \u001b[0;32mfrom\u001b[0m \u001b[0msklego\u001b[0m\u001b[0;34m.\u001b[0m\u001b[0mlinear_model\u001b[0m \u001b[0;32mimport\u001b[0m \u001b[0mLowessRegression\u001b[0m\u001b[0;34m\u001b[0m\u001b[0m\n\u001b[0m\u001b[1;32m      3\u001b[0m \u001b[0;32mimport\u001b[0m \u001b[0mnumpy\u001b[0m \u001b[0;32mas\u001b[0m \u001b[0mnp\u001b[0m\u001b[0;34m\u001b[0m\u001b[0m\n\u001b[1;32m      4\u001b[0m \u001b[0mn\u001b[0m\u001b[0;34m=\u001b[0m\u001b[0;36m100\u001b[0m\u001b[0;34m\u001b[0m\u001b[0m\n\u001b[1;32m      5\u001b[0m \u001b[0mxs\u001b[0m\u001b[0;34m=\u001b[0m\u001b[0mnp\u001b[0m\u001b[0;34m.\u001b[0m\u001b[0mlinspace\u001b[0m\u001b[0;34m(\u001b[0m\u001b[0;36m0\u001b[0m\u001b[0;34m,\u001b[0m\u001b[0mnp\u001b[0m\u001b[0;34m.\u001b[0m\u001b[0mpi\u001b[0m\u001b[0;34m,\u001b[0m\u001b[0mn\u001b[0m\u001b[0;34m)\u001b[0m\u001b[0;34m\u001b[0m\u001b[0m\n",
      "\u001b[0;32m~/anaconda3/lib/python3.6/site-packages/sklego/linear_model.py\u001b[0m in \u001b[0;36m<module>\u001b[0;34m()\u001b[0m\n\u001b[1;32m      7\u001b[0m \u001b[0;34m\u001b[0m\u001b[0m\n\u001b[1;32m      8\u001b[0m \u001b[0;32mimport\u001b[0m \u001b[0mautograd\u001b[0m\u001b[0;34m.\u001b[0m\u001b[0mnumpy\u001b[0m \u001b[0;32mas\u001b[0m \u001b[0mnp\u001b[0m\u001b[0;34m\u001b[0m\u001b[0m\n\u001b[0;32m----> 9\u001b[0;31m \u001b[0;32mimport\u001b[0m \u001b[0mpandas\u001b[0m \u001b[0;32mas\u001b[0m \u001b[0mpd\u001b[0m\u001b[0;34m\u001b[0m\u001b[0m\n\u001b[0m\u001b[1;32m     10\u001b[0m \u001b[0;32mfrom\u001b[0m \u001b[0mautograd\u001b[0m \u001b[0;32mimport\u001b[0m \u001b[0mgrad\u001b[0m\u001b[0;34m\u001b[0m\u001b[0m\n\u001b[1;32m     11\u001b[0m \u001b[0;32mfrom\u001b[0m \u001b[0mautograd\u001b[0m\u001b[0;34m.\u001b[0m\u001b[0mtest_util\u001b[0m \u001b[0;32mimport\u001b[0m \u001b[0mcheck_grads\u001b[0m\u001b[0;34m\u001b[0m\u001b[0m\n",
      "\u001b[0;32m~/anaconda3/lib/python3.6/site-packages/pandas/__init__.py\u001b[0m in \u001b[0;36m<module>\u001b[0;34m()\u001b[0m\n\u001b[1;32m     20\u001b[0m \u001b[0;34m\u001b[0m\u001b[0m\n\u001b[1;32m     21\u001b[0m \u001b[0;31m# numpy compat\u001b[0m\u001b[0;34m\u001b[0m\u001b[0;34m\u001b[0m\u001b[0m\n\u001b[0;32m---> 22\u001b[0;31m from pandas.compat.numpy import (\n\u001b[0m\u001b[1;32m     23\u001b[0m     \u001b[0m_np_version_under1p16\u001b[0m\u001b[0;34m,\u001b[0m\u001b[0;34m\u001b[0m\u001b[0m\n\u001b[1;32m     24\u001b[0m     \u001b[0m_np_version_under1p17\u001b[0m\u001b[0;34m,\u001b[0m\u001b[0;34m\u001b[0m\u001b[0m\n",
      "\u001b[0;32m~/anaconda3/lib/python3.6/site-packages/pandas/compat/numpy/__init__.py\u001b[0m in \u001b[0;36m<module>\u001b[0;34m()\u001b[0m\n\u001b[1;32m     19\u001b[0m \u001b[0;32mif\u001b[0m \u001b[0m_nlv\u001b[0m \u001b[0;34m<\u001b[0m \u001b[0;34m\"1.15.4\"\u001b[0m\u001b[0;34m:\u001b[0m\u001b[0;34m\u001b[0m\u001b[0m\n\u001b[1;32m     20\u001b[0m     raise ImportError(\n\u001b[0;32m---> 21\u001b[0;31m         \u001b[0;34m\"this version of pandas is incompatible with numpy < 1.15.4\\n\"\u001b[0m\u001b[0;34m\u001b[0m\u001b[0m\n\u001b[0m\u001b[1;32m     22\u001b[0m         \u001b[0;34mf\"your numpy version is {_np_version}.\\n\"\u001b[0m\u001b[0;34m\u001b[0m\u001b[0m\n\u001b[1;32m     23\u001b[0m         \u001b[0;34m\"Please upgrade numpy to >= 1.15.4 to use this pandas version\"\u001b[0m\u001b[0;34m\u001b[0m\u001b[0m\n",
      "\u001b[0;31mImportError\u001b[0m: this version of pandas is incompatible with numpy < 1.15.4\nyour numpy version is 1.14.3.\nPlease upgrade numpy to >= 1.15.4 to use this pandas version"
     ]
    }
   ],
   "source": [
    "import matplotlib.pylab as plt\n",
    "from sklego.linear_model import LowessRegression\n",
    "import numpy as np\n",
    "n=100\n",
    "xs=np.linspace(0,np.pi,n)\n",
    "ys=1+np.sin(xs)+np.cos(xs**2)+np.random.normal(0,0.1,n)\n",
    "mod=lowessRegression(sigma=0.01,span=0.5).fit(xs.reshape(-1,1),ys)\n",
    "xs_new=np.linspace(-1,np.pi+1,n*2)\n",
    "preds=mod.predict(xs_new.reshape(-1,1))\n",
    "plt.figure(figsize==(12,4))\n",
    "plt.scatter(xs,ys)\n",
    "plt.plot(xs_new,preds,color='orange')"
   ]
  },
  {
   "cell_type": "code",
   "execution_count": null,
   "metadata": {},
   "outputs": [],
   "source": []
  },
  {
   "cell_type": "code",
   "execution_count": null,
   "metadata": {},
   "outputs": [],
   "source": []
  },
  {
   "cell_type": "code",
   "execution_count": null,
   "metadata": {},
   "outputs": [],
   "source": []
  }
 ],
 "metadata": {
  "kernelspec": {
   "display_name": "Python 3",
   "language": "python",
   "name": "python3"
  },
  "language_info": {
   "codemirror_mode": {
    "name": "ipython",
    "version": 3
   },
   "file_extension": ".py",
   "mimetype": "text/x-python",
   "name": "python",
   "nbconvert_exporter": "python",
   "pygments_lexer": "ipython3",
   "version": "3.6.5"
  }
 },
 "nbformat": 4,
 "nbformat_minor": 2
}
