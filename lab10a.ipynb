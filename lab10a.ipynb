{
 "cells": [
  {
   "cell_type": "code",
   "execution_count": 1,
   "metadata": {},
   "outputs": [
    {
     "name": "stdout",
     "output_type": "stream",
     "text": [
      "Requirement already satisfied: pip in ./anaconda3/lib/python3.6/site-packages (20.3.3)\r\n"
     ]
    }
   ],
   "source": [
    "!pip install --upgrade pip"
   ]
  },
  {
   "cell_type": "code",
   "execution_count": 2,
   "metadata": {},
   "outputs": [
    {
     "name": "stdout",
     "output_type": "stream",
     "text": [
      "Collecting llvmlite\n",
      "  Using cached llvmlite-0.35.0-cp36-cp36m-manylinux2010_i686.whl (27.4 MB)\n",
      "Installing collected packages: llvmlite\n",
      "Successfully installed llvmlite-0.35.0\n"
     ]
    }
   ],
   "source": [
    "!pip install --ignore-installed llvmlite"
   ]
  },
  {
   "cell_type": "code",
   "execution_count": 3,
   "metadata": {},
   "outputs": [
    {
     "name": "stdout",
     "output_type": "stream",
     "text": [
      "Requirement already satisfied: scikit-lego in ./anaconda3/lib/python3.6/site-packages (0.6.3)\n",
      "Requirement already satisfied: numpy>=1.16.0 in ./anaconda3/lib/python3.6/site-packages (from scikit-lego) (1.19.5)\n",
      "Requirement already satisfied: pandas>=0.23.4 in ./anaconda3/lib/python3.6/site-packages (from scikit-lego) (1.1.5)\n",
      "Requirement already satisfied: scikit-learn>=0.20.2 in ./anaconda3/lib/python3.6/site-packages (from scikit-lego) (0.24.0)\n",
      "Requirement already satisfied: umap-learn>=0.4.3 in ./anaconda3/lib/python3.6/site-packages (from scikit-lego) (0.5.0)\n",
      "Requirement already satisfied: patsy>=0.5.1 in ./anaconda3/lib/python3.6/site-packages (from scikit-lego) (0.5.1)\n",
      "Requirement already satisfied: autograd>=1.2 in ./anaconda3/lib/python3.6/site-packages (from scikit-lego) (1.3)\n",
      "Requirement already satisfied: scipy>=1.2.0 in ./anaconda3/lib/python3.6/site-packages (from scikit-lego) (1.5.4)\n",
      "Requirement already satisfied: Deprecated>=1.2.6 in ./anaconda3/lib/python3.6/site-packages (from scikit-lego) (1.2.10)\n",
      "Requirement already satisfied: future>=0.15.2 in ./anaconda3/lib/python3.6/site-packages (from autograd>=1.2->scikit-lego) (0.18.2)\n",
      "Requirement already satisfied: wrapt<2,>=1.10 in ./anaconda3/lib/python3.6/site-packages (from Deprecated>=1.2.6->scikit-lego) (1.10.11)\n",
      "Requirement already satisfied: python-dateutil>=2.7.3 in ./anaconda3/lib/python3.6/site-packages (from pandas>=0.23.4->scikit-lego) (2.7.3)\n",
      "Requirement already satisfied: pytz>=2017.2 in ./anaconda3/lib/python3.6/site-packages (from pandas>=0.23.4->scikit-lego) (2018.4)\n",
      "Requirement already satisfied: six in ./anaconda3/lib/python3.6/site-packages (from patsy>=0.5.1->scikit-lego) (1.11.0)\n",
      "Requirement already satisfied: threadpoolctl>=2.0.0 in ./anaconda3/lib/python3.6/site-packages (from scikit-learn>=0.20.2->scikit-lego) (2.1.0)\n",
      "Requirement already satisfied: joblib>=0.11 in ./anaconda3/lib/python3.6/site-packages/joblib-1.0.0-py3.6.egg (from scikit-learn>=0.20.2->scikit-lego) (1.0.0)\n",
      "Requirement already satisfied: numba>=0.49 in ./anaconda3/lib/python3.6/site-packages (from umap-learn>=0.4.3->scikit-lego) (0.52.0)\n",
      "Requirement already satisfied: pynndescent>=0.5 in ./anaconda3/lib/python3.6/site-packages (from umap-learn>=0.4.3->scikit-lego) (0.5.1)\n",
      "Requirement already satisfied: setuptools in ./anaconda3/lib/python3.6/site-packages (from numba>=0.49->umap-learn>=0.4.3->scikit-lego) (39.1.0)\n",
      "Requirement already satisfied: llvmlite<0.36,>=0.35.0 in ./anaconda3/lib/python3.6/site-packages (from numba>=0.49->umap-learn>=0.4.3->scikit-lego) (0.35.0)\n"
     ]
    }
   ],
   "source": [
    "!python -m pip install scikit-lego"
   ]
  },
  {
   "cell_type": "code",
   "execution_count": 29,
   "metadata": {},
   "outputs": [
    {
     "data": {
      "text/plain": [
       "[<matplotlib.lines.Line2D at 0xa4e5276c>]"
      ]
     },
     "execution_count": 29,
     "metadata": {},
     "output_type": "execute_result"
    },
    {
     "data": {
      "image/png": "[encoded data removed]",
      "text/plain": [
       "<Figure size 1080x360 with 1 Axes>"
      ]
     },
     "metadata": {},
     "output_type": "display_data"
    }
   ],
   "source": [
    "import matplotlib.pylab as plt\n",
    "from sklego.linear_model import LowessRegression\n",
    "import numpy as np\n",
    "n=100\n",
    "xs=np.linspace(0,np.pi,n)\n",
    "ys=1+np.sin(xs)+np.cos(xs**2)+np.random.normal(0,0.1,n)\n",
    "mod=LowessRegression(sigma=25,span=1).fit(xs.reshape(-1,1),ys)\n",
    "xs_new=np.linspace(-1,np.pi+1,n*2)\n",
    "preds=mod.predict(xs_new.reshape(-1,1))\n",
    "plt.figure(figsize=(15,5))\n",
    "plt.scatter(xs,ys)\n",
    "plt.plot(xs_new,preds,color='orange')"
   ]
  },
  {
   "cell_type": "code",
   "execution_count": null,
   "metadata": {},
   "outputs": [],
   "source": []
  }
 ],
 "metadata": {
  "kernelspec": {
   "display_name": "Python 3",
   "language": "python",
   "name": "python3"
  },
  "language_info": {
   "codemirror_mode": {
    "name": "ipython",
    "version": 3
   },
   "file_extension": ".py",
   "mimetype": "text/x-python",
   "name": "python",
   "nbconvert_exporter": "python",
   "pygments_lexer": "ipython3",
   "version": "3.6.5"
  }
 },
 "nbformat": 4,
 "nbformat_minor": 2
}
