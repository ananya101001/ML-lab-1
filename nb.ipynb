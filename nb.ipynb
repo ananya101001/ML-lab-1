{
 "cells": [
  {
   "cell_type": "code",
   "execution_count": 61,
   "metadata": {},
   "outputs": [],
   "source": [
    "import csv,random,math\n",
    "import statistics as st\n"
   ]
  },
  {
   "cell_type": "code",
   "execution_count": 62,
   "metadata": {},
   "outputs": [],
   "source": [
    "def Loadcsv(filename):\n",
    "    lines=csv.reader(open(filename,\"r\"));\n",
    "    dataset=list(lines)\n",
    "    for i in range(len(dataset)):\n",
    "        dataset[i]=[float(x) for x in dataset[i]]\n",
    "    return dataset    "
   ]
  },
  {
   "cell_type": "code",
   "execution_count": null,
   "metadata": {},
   "outputs": [],
   "source": []
  },
  {
   "cell_type": "code",
   "execution_count": null,
   "metadata": {},
   "outputs": [],
   "source": []
  },
  {
   "cell_type": "code",
   "execution_count": 63,
   "metadata": {},
   "outputs": [],
   "source": [
    "def splitDataset(dataset,splitRatio):\n",
    "    testsize=int(len(dataset)*splitRatio);\n",
    "    trainset=list(dataset)\n",
    "    testset=[]\n",
    "    while len(testset)<testsize:\n",
    "        index=random.randrange(len(trainset));\n",
    "        testset.append(trainset.pop(index))\n",
    "    return [trainset,testset] \n",
    "\n",
    "    "
   ]
  },
  {
   "cell_type": "code",
   "execution_count": 64,
   "metadata": {},
   "outputs": [],
   "source": [
    "def saperatebyclass(dataset):\n",
    "    saperated={}\n",
    "    for i in range(len(dataset)):\n",
    "        x=dataset[i]\n",
    "        if(x[-1] not in saperated):\n",
    "            saperated[x[-1]]=[]\n",
    "        saperated[x[-1]].append(x)\n",
    "    return saperated            "
   ]
  },
  {
   "cell_type": "code",
   "execution_count": 65,
   "metadata": {},
   "outputs": [],
   "source": [
    "def compute_mean_std(dataset):\n",
    "    mean_std=[(st.mean(attribute),st.stdev(attribute))\n",
    "             for attribute in zip(*dataset)];\n",
    "    del mean_std[-1]\n",
    "    return mean_std\n",
    "    "
   ]
  },
  {
   "cell_type": "code",
   "execution_count": 66,
   "metadata": {},
   "outputs": [],
   "source": [
    " def summarizebyclass(dataset):\n",
    "        saperated=saperatebyclass(dataset)\n",
    "        summary={}\n",
    "        for classvalue,instances in saperated.items():\n",
    "            summary[classvalue]=compute_mean_std(instances)\n",
    "        return summary    "
   ]
  },
  {
   "cell_type": "code",
   "execution_count": 80,
   "metadata": {},
   "outputs": [],
   "source": [
    "def estimateProbablity(x,mean,stdev):\n",
    "    exponent=math.exp(-(math.pow(x-mean,2)/(2*math.pow(stdev,2))))\n",
    "    return (1/(math.sqrt(2*math.pi)*stdev))*exponent"
   ]
  },
  {
   "cell_type": "code",
   "execution_count": 81,
   "metadata": {},
   "outputs": [],
   "source": [
    "def calculateclassprobablity(summaries,testvector):\n",
    "    p={}\n",
    "    for classvalue,classSummaries in summaries.items():\n",
    "        p[classvalue]=1\n",
    "        for i in range(len(classSummaries)):\n",
    "            mean,stdev=classSummaries[i]\n",
    "            x=testvector[i]\n",
    "            p[classvalue]*=estimateProbablity(x,mean,stdev)\n",
    "    return p\n",
    "  "
   ]
  },
  {
   "cell_type": "code",
   "execution_count": 82,
   "metadata": {},
   "outputs": [],
   "source": [
    "def predict(summaries,testvector):\n",
    "        all_p = calculateclassprobablity(summaries,testvector)\n",
    "        bestlabel,bestprob=None,-1\n",
    "        for lbl,p in all_p.items():\n",
    "            if bestlabel is None or p> bestprob:\n",
    "                bestprob=p\n",
    "                bestlabel=lbl\n",
    "        return bestlabel      "
   ]
  },
  {
   "cell_type": "code",
   "execution_count": 83,
   "metadata": {},
   "outputs": [],
   "source": [
    "def perform_classification(summaries,testset):\n",
    "    predictions=[]\n",
    "    for i in range(len(testset)):\n",
    "        result=predict(summaries,testset[i])\n",
    "        predictions.append(result)\n",
    "    return predictions "
   ]
  },
  {
   "cell_type": "code",
   "execution_count": 84,
   "metadata": {},
   "outputs": [],
   "source": [
    "def getAccuracy(testset,predictions):\n",
    "    correct=0\n",
    "    for i in range(len(testset)):\n",
    "        if testset[i][-1]==predictions[i]:\n",
    "            correct+=1\n",
    "    return (correct/float(len(testset)))*100.0\n",
    "\n",
    "            "
   ]
  },
  {
   "cell_type": "code",
   "execution_count": 85,
   "metadata": {},
   "outputs": [
    {
     "name": "stdout",
     "output_type": "stream",
     "text": [
      "prima indian diabetics dataset loaded\n",
      "tptal instance: 768\n",
      "total attributes: 8\n",
      "the first five instance is :\n",
      "1 : [6.0, 148.0, 72.0, 35.0, 0.0, 33.6, 0.627, 50.0, 1.0]\n",
      "2 : [1.0, 85.0, 66.0, 29.0, 0.0, 26.6, 0.351, 31.0, 0.0]\n",
      "3 : [8.0, 183.0, 64.0, 0.0, 0.0, 23.3, 0.672, 32.0, 1.0]\n",
      "4 : [1.0, 89.0, 66.0, 23.0, 94.0, 28.1, 0.167, 21.0, 0.0]\n",
      "5 : [0.0, 137.0, 40.0, 35.0, 168.0, 43.1, 2.288, 33.0, 1.0]\n"
     ]
    }
   ],
   "source": [
    "dataset=Loadcsv(\"diabetes.csv\");\n",
    "print('prima indian diabetics dataset loaded')\n",
    "print('tptal instance:',len(dataset))\n",
    "print('total attributes:',len(dataset[0])-1)\n",
    "print('the first five instance is :')\n",
    "for i in range(5):\n",
    "        print(i+1,':',dataset[i])\n",
    "    "
   ]
  },
  {
   "cell_type": "code",
   "execution_count": 87,
   "metadata": {},
   "outputs": [
    {
     "name": "stdout",
     "output_type": "stream",
     "text": [
      "\n",
      " Dataset is split into testing and training data\n",
      "Training example=615\n",
      " testing example=153\n",
      "accuracy: 70.58823529411765\n"
     ]
    }
   ],
   "source": [
    "splitRatio =0.2\n",
    "trainingset,testset=splitDataset(dataset,splitRatio)\n",
    "print('\\n Dataset is split into testing and training data')\n",
    "print('Training example={0}\\n testing example={1}'.format(len(trainingset),len(testset)))\n",
    "summaries=summarizebyclass(trainingset)\n",
    "predictions=perform_classification(summaries,testset)\n",
    "accuracy=getAccuracy(testset,predictions)\n",
    "print('accuracy:',accuracy)"
   ]
  },
  {
   "cell_type": "code",
   "execution_count": null,
   "metadata": {},
   "outputs": [],
   "source": []
  },
  {
   "cell_type": "code",
   "execution_count": null,
   "metadata": {},
   "outputs": [],
   "source": []
  }
 ],
 "metadata": {
  "kernelspec": {
   "display_name": "Python 3",
   "language": "python",
   "name": "python3"
  },
  "language_info": {
   "codemirror_mode": {
    "name": "ipython",
    "version": 3
   },
   "file_extension": ".py",
   "mimetype": "text/x-python",
   "name": "python",
   "nbconvert_exporter": "python",
   "pygments_lexer": "ipython3",
   "version": "3.7.6"
  }
 },
 "nbformat": 4,
 "nbformat_minor": 4
}
