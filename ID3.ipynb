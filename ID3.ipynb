{
 "cells": [
  {
   "cell_type": "code",
   "execution_count": 61,
   "metadata": {},
   "outputs": [],
   "source": [
    "import pandas as pd\n",
    "from pandas import DataFrame\n",
    "tennis=pd.read_csv('id3.csv')"
   ]
  },
  {
   "cell_type": "code",
   "execution_count": 62,
   "metadata": {},
   "outputs": [],
   "source": [
    "attribute_names=list(tennis.columns)\n",
    "attribute_names.remove('play')"
   ]
  },
  {
   "cell_type": "code",
   "execution_count": 63,
   "metadata": {},
   "outputs": [
    {
     "data": {
      "text/plain": [
       "['outlook', 'temp', 'humidity', 'wind']"
      ]
     },
     "execution_count": 63,
     "metadata": {},
     "output_type": "execute_result"
    }
   ],
   "source": [
    "attribute_names"
   ]
  },
  {
   "cell_type": "code",
   "execution_count": 64,
   "metadata": {},
   "outputs": [],
   "source": [
    "def entropy_of_list(lst):\n",
    "    from collections import Counter\n",
    "    count=Counter(x for x in lst)\n",
    "    num_instances=len(lst)*1\n",
    "    probs=[x/num_instances for x in count.values()]\n",
    "    return entropy(probs)"
   ]
  },
  {
   "cell_type": "code",
   "execution_count": 65,
   "metadata": {},
   "outputs": [],
   "source": [
    "def entropy(probs):\n",
    "    import math\n",
    "    return sum([-prob*math.log(prob,2)for prob in probs])"
   ]
  },
  {
   "cell_type": "code",
   "execution_count": 66,
   "metadata": {},
   "outputs": [],
   "source": [
    "total_entropy=entropy_of_list(tennis['play'])"
   ]
  },
  {
   "cell_type": "code",
   "execution_count": 67,
   "metadata": {},
   "outputs": [],
   "source": [
    "def information_gain(df,split_attribute_name,target_attribute_name,trace=0):\n",
    "    df_split=df.groupby(split_attribute_name)\n",
    "    nobs=len(df.index)*1\n",
    "    df_agg_ent=df_split.agg({target_attribute_name:[entropy_of_list,lambda x:len(x)/nobs]})\n",
    "    df_agg_ent.columns=['Entropy','propobservations']\n",
    "    new_entropy=sum(df_agg_ent['Entropy']*df_agg_ent['propobservations'])\n",
    "    old_entropy=entropy_of_list(df[target_attribute_name])\n",
    "    print(split_attribute_name,'IG:',old_entropy-new_entropy)\n",
    "    return old_entropy-new_entropy"
   ]
  },
  {
   "cell_type": "code",
   "execution_count": 68,
   "metadata": {},
   "outputs": [],
   "source": [
    "def id3(df,target_attribute_name,attribute_names,default_class=None):\n",
    "    from collections import Counter\n",
    "    count=Counter(x for x in df[target_attribute_name])\n",
    "    if len(count)==1:\n",
    "        return next(iter(count))\n",
    "    elif df.empty or (not attribute_names):\n",
    "        return default_class\n",
    "    else:\n",
    "        default_class=max(count.keys())\n",
    "        gain=[\n",
    "            information_gain(df,attr,target_attribute_name) for attr in attribute_names\n",
    "        ]\n",
    "        print()\n",
    "        index_of_max=gain.index(max(gain))\n",
    "        best_attr=attribute_names[index_of_max]\n",
    "        tree={best_attr:{}}\n",
    "        remaining_attribute_names=[i for i in attribute_names if i!=best_attr]\n",
    "        for attr_val,data_subset in df.groupby(best_attr):\n",
    "            subtree=id3(data_subset,target_attribute_name,remaining_attribute_names,default_class)\n",
    "            tree[best_attr][attr_val]=subtree\n",
    "        return tree\n",
    "    "
   ]
  },
  {
   "cell_type": "code",
   "execution_count": 69,
   "metadata": {},
   "outputs": [
    {
     "name": "stdout",
     "output_type": "stream",
     "text": [
      "outlook IG: 0.2467498197744391\n",
      "temp IG: 0.029222565658954647\n",
      "humidity IG: 0.15183550136234136\n",
      "wind IG: 0.04812703040826927\n",
      "\n",
      "temp IG: 0.01997309402197489\n",
      "humidity IG: 0.01997309402197489\n",
      "wind IG: 0.3219280948873623\n",
      "\n",
      "temp IG: 0.31127812445913283\n",
      "humidity IG: 0.12255624891826566\n",
      "\n",
      "humidity IG: 0.0\n",
      "\n",
      "temp IG: 0.5709505944546686\n",
      "humidity IG: 0.9709505944546686\n",
      "wind IG: 0.01997309402197489\n",
      "\n",
      "\n",
      " the resultant decision tree is:\n",
      "\n",
      "{'outlook': {'overcast': 'yes',\n",
      "             'rain': {'wind': {'strong': 'no',\n",
      "                               'weak': {'temp': {'cool': {'humidity': {'normal': 'yes'}},\n",
      "                                                 'mild': 'yes'}}}},\n",
      "             'sunny': {'humidity': {'high': 'no', 'normal': 'yes'}}}}\n"
     ]
    }
   ],
   "source": [
    "from pprint import pprint\n",
    "tree=id3(tennis,'play',attribute_names)\n",
    "print('\\n the resultant decision tree is:\\n')\n",
    "pprint(tree)"
   ]
  },
  {
   "cell_type": "code",
   "execution_count": null,
   "metadata": {},
   "outputs": [],
   "source": []
  }
 ],
 "metadata": {
  "kernelspec": {
   "display_name": "Python 3",
   "language": "python",
   "name": "python3"
  },
  "language_info": {
   "codemirror_mode": {
    "name": "ipython",
    "version": 3
   },
   "file_extension": ".py",
   "mimetype": "text/x-python",
   "name": "python",
   "nbconvert_exporter": "python",
   "pygments_lexer": "ipython3",
   "version": "3.7.6"
  }
 },
 "nbformat": 4,
 "nbformat_minor": 4
}
