{
 "cells": [
  {
   "cell_type": "code",
   "execution_count": 1,
   "metadata": {},
   "outputs": [],
   "source": [
    "import csv,random,math\n",
    "import statistics as st"
   ]
  },
  {
   "cell_type": "code",
   "execution_count": 2,
   "metadata": {},
   "outputs": [],
   "source": [
    "def Loadcsv(filename):\n",
    "    lines=csv.reader(open(filename,\"r\"));\n",
    "    dataset=list(lines)\n",
    "    for i in range(len(dataset)):\n",
    "        dataset[i]=[float(x) for x in datset[i]]\n",
    "    return dataset    "
   ]
  },
  {
   "cell_type": "code",
   "execution_count": null,
   "metadata": {},
   "outputs": [],
   "source": []
  },
  {
   "cell_type": "code",
   "execution_count": null,
   "metadata": {},
   "outputs": [],
   "source": []
  },
  {
   "cell_type": "code",
   "execution_count": 3,
   "metadata": {},
   "outputs": [],
   "source": [
    "def splitDataset(dataset,splitRatio):\n",
    "    testsize=int(len(datset)*splitRatio);\n",
    "    trainset=list(datset)\n",
    "    testset=[]\n",
    "    while len(testset)<testsize:\n",
    "        index=random.randrange(len(trainset));\n",
    "        testset.append(trainset.pop(index))\n",
    "    return [trainset,testset] \n",
    "\n",
    "    "
   ]
  },
  {
   "cell_type": "code",
   "execution_count": 21,
   "metadata": {},
   "outputs": [],
   "source": [
    "def saperatebyclass(dataset):\n",
    "    saperated={}\n",
    "    for i in range(len(dataset)):\n",
    "        x=dataset[i]\n",
    "        if(x[-1] not in saperated):\n",
    "            saperated[x[-1]]=[]\n",
    "        saperated[x[-1]].append(x)\n",
    "    return saperated            "
   ]
  },
  {
   "cell_type": "code",
   "execution_count": 22,
   "metadata": {},
   "outputs": [],
   "source": [
    "def compute_mean_std(dataset):\n",
    "    mean_std=[(st.mean(attribute),st.stdev(attribute))\n",
    "             for attribute in zip(*dataset)];\n",
    "    del mean_std[-1]\n",
    "    return mean_std\n",
    "    "
   ]
  },
  {
   "cell_type": "code",
   "execution_count": 23,
   "metadata": {},
   "outputs": [],
   "source": [
    " def summarizebyclass(dataset):\n",
    "        saperated=saperatebyclass(datset)\n",
    "        summary={}\n",
    "        for classvalue,instances in saperated.items():\n",
    "            summary[classvalue]=compute_mean_std(instances)\n",
    "        return summary    "
   ]
  },
  {
   "cell_type": "code",
   "execution_count": 8,
   "metadata": {},
   "outputs": [],
   "source": [
    "def estimateProbablity(x,mean,stddev):\n",
    "    exponent=math.exp(-(math.pow(x-mean,2)/(2*math.pow(stddev,2))))\n",
    "    return (1/(math.sqrt(2*math.pi)*stdev))*exponent"
   ]
  },
  {
   "cell_type": "code",
   "execution_count": 13,
   "metadata": {},
   "outputs": [],
   "source": [
    "def calculateclassprobablity(summaries,testvector):\n",
    "    p={}\n",
    "    for classvalue,classSummaries in summaries.items():\n",
    "        p[classvalue]=1\n",
    "        for i in range(len(classSummaries)):\n",
    "            mean,stddev=classSummaries[i]\n",
    "            x=testvector[i]\n",
    "            p[classvalue]*=estimateProbablity(x,mean,stdev)\n",
    "    return p\n",
    "  "
   ]
  },
  {
   "cell_type": "code",
   "execution_count": 17,
   "metadata": {},
   "outputs": [],
   "source": [
    "def predict(summaries,testvector):\n",
    "        all_p = calculateclassprobablity(summaries,testvector)\n",
    "        bestlabel,bestprob=None,-1\n",
    "        for lbl,p in all_p.items():\n",
    "            if bestlabel is None or p> bestprob:\n",
    "                bestprob=p\n",
    "                bestlabel=lbl\n",
    "        return bestlabel      "
   ]
  },
  {
   "cell_type": "code",
   "execution_count": 18,
   "metadata": {},
   "outputs": [],
   "source": [
    "def perform_classification(summaries,testset):\n",
    "    predictions=[]\n",
    "    for i in range(len(testset)):\n",
    "        result=predict(summaries,testset[i])\n",
    "        predictions.append(result)\n",
    "    return predictions "
   ]
  },
  {
   "cell_type": "code",
   "execution_count": 20,
   "metadata": {},
   "outputs": [
    {
     "ename": "NameError",
     "evalue": "name 'loadcsv' is not defined",
     "output_type": "error",
     "traceback": [
      "\u001b[1;31m---------------------------------------------------------------------------\u001b[0m",
      "\u001b[1;31mNameError\u001b[0m                                 Traceback (most recent call last)",
      "\u001b[1;32m<ipython-input-20-0449860f48ee>\u001b[0m in \u001b[0;36m<module>\u001b[1;34m\u001b[0m\n\u001b[0;32m      5\u001b[0m             \u001b[0mcorrect\u001b[0m\u001b[1;33m+=\u001b[0m\u001b[1;36m1\u001b[0m\u001b[1;33m\u001b[0m\u001b[1;33m\u001b[0m\u001b[0m\n\u001b[0;32m      6\u001b[0m     \u001b[1;32mreturn\u001b[0m \u001b[1;33m(\u001b[0m\u001b[0mcorrect\u001b[0m\u001b[1;33m/\u001b[0m\u001b[0mfloat\u001b[0m\u001b[1;33m(\u001b[0m\u001b[0mlen\u001b[0m\u001b[1;33m(\u001b[0m\u001b[0mtestset\u001b[0m\u001b[1;33m)\u001b[0m\u001b[1;33m)\u001b[0m\u001b[1;33m)\u001b[0m\u001b[1;33m*\u001b[0m\u001b[1;36m100.0\u001b[0m\u001b[1;33m\u001b[0m\u001b[1;33m\u001b[0m\u001b[0m\n\u001b[1;32m----> 7\u001b[1;33m \u001b[0mdataset\u001b[0m\u001b[1;33m=\u001b[0m\u001b[0mloadcsv\u001b[0m\u001b[1;33m(\u001b[0m\u001b[1;34m''\u001b[0m\u001b[1;33m)\u001b[0m\u001b[1;33m\u001b[0m\u001b[1;33m\u001b[0m\u001b[0m\n\u001b[0m\u001b[0;32m      8\u001b[0m \u001b[0mprint\u001b[0m\u001b[1;33m(\u001b[0m\u001b[1;34m'prima indian diabetics dataset loaded'\u001b[0m\u001b[1;33m)\u001b[0m\u001b[1;33m\u001b[0m\u001b[1;33m\u001b[0m\u001b[0m\n\u001b[0;32m      9\u001b[0m \u001b[0mprint\u001b[0m\u001b[1;33m(\u001b[0m\u001b[1;34m'tptal instance:'\u001b[0m\u001b[1;33m,\u001b[0m\u001b[0mlen\u001b[0m\u001b[1;33m(\u001b[0m\u001b[0mdatset\u001b[0m\u001b[1;33m)\u001b[0m\u001b[1;33m)\u001b[0m\u001b[1;33m\u001b[0m\u001b[1;33m\u001b[0m\u001b[0m\n",
      "\u001b[1;31mNameError\u001b[0m: name 'loadcsv' is not defined"
     ]
    }
   ],
   "source": [
    "def getAccuracy(testset,predictions):\n",
    "    correct=0\n",
    "    for i in range(len(testset)):\n",
    "        if testset[i][-1]==predictions[i]:\n",
    "            correct+=1\n",
    "    return (correct/float(len(testset)))*100.0\n",
    "dataset=loadcsv('')\n",
    "print('prima indian diabetics dataset loaded')\n",
    "print('tptal instance:',len(datset))\n",
    "print('total attributes:',len(datset[0])-1)\n",
    "print('the first five instance is :')\n",
    "for i in range(5):\n",
    "    print(i+1,':',dataset[i])\n",
    "    \n",
    "            "
   ]
  },
  {
   "cell_type": "code",
   "execution_count": null,
   "metadata": {},
   "outputs": [],
   "source": [
    "splitRatio =0.2\n",
    "trainingset,testset=splitDataset(dataset,splitRatio)\n",
    "print('\\n Dataset is split into testing and training data')\n",
    "print('Training example={0}\\n testing example={1}'.format(len(trainingset),len(testset)))\n",
    "summaries=summarizebyclass(trainingset)\n",
    "predictions=perform_classification(summaries,testset)\n",
    "accuracy=getAccuracytestse"
   ]
  }
 ],
 "metadata": {
  "kernelspec": {
   "display_name": "Python 3",
   "language": "python",
   "name": "python3"
  },
  "language_info": {
   "codemirror_mode": {
    "name": "ipython",
    "version": 3
   },
   "file_extension": ".py",
   "mimetype": "text/x-python",
   "name": "python",
   "nbconvert_exporter": "python",
   "pygments_lexer": "ipython3",
   "version": "3.7.6"
  }
 },
 "nbformat": 4,
 "nbformat_minor": 4
}
