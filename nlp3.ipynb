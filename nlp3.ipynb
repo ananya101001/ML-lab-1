{
 "cells": [
  {
   "cell_type": "code",
   "execution_count": 4,
   "metadata": {},
   "outputs": [],
   "source": [
    "import csv"
   ]
  },
  {
   "cell_type": "code",
   "execution_count": 8,
   "metadata": {},
   "outputs": [],
   "source": [
    "with open(\"Book1.csv\") as f:\n",
    "    csv_file=csv.reader(f)\n",
    "    data=list(csv_file)"
   ]
  },
  {
   "cell_type": "code",
   "execution_count": 9,
   "metadata": {},
   "outputs": [
    {
     "data": {
      "text/plain": [
       "[['sunny', 'warm', 'normal', 'strong', 'warm', 'same', 'yes'],\n",
       " ['sunny', 'warm', 'high', 'strong', 'warm', 'same', 'yes'],\n",
       " ['rainy', 'cold', 'high', 'strong', 'warm', 'change', 'no'],\n",
       " ['sunny', 'warm', 'high', 'strong', 'cool', 'change', 'yes']]"
      ]
     },
     "execution_count": 9,
     "metadata": {},
     "output_type": "execute_result"
    }
   ],
   "source": [
    "data"
   ]
  },
  {
   "cell_type": "code",
   "execution_count": 10,
   "metadata": {},
   "outputs": [],
   "source": [
    "s=data[1][:-1]\n",
    "g=[['?'  for i in range(len(s))] for j in range(len(s))]"
   ]
  },
  {
   "cell_type": "code",
   "execution_count": 11,
   "metadata": {},
   "outputs": [
    {
     "data": {
      "text/plain": [
       "[['?', '?', '?', '?', '?', '?'],\n",
       " ['?', '?', '?', '?', '?', '?'],\n",
       " ['?', '?', '?', '?', '?', '?'],\n",
       " ['?', '?', '?', '?', '?', '?'],\n",
       " ['?', '?', '?', '?', '?', '?'],\n",
       " ['?', '?', '?', '?', '?', '?']]"
      ]
     },
     "execution_count": 11,
     "metadata": {},
     "output_type": "execute_result"
    }
   ],
   "source": [
    "g"
   ]
  },
  {
   "cell_type": "code",
   "execution_count": 21,
   "metadata": {},
   "outputs": [
    {
     "name": "stdout",
     "output_type": "stream",
     "text": [
      "\n",
      " steps of candidate elimination algorithm 5\n",
      "['sunny', 'warm', '?', 'strong', '?', '?']\n",
      "[['sunny', '?', '?', '?', '?', '?'], ['?', 'warm', '?', '?', '?', '?'], ['?', '?', '?', '?', '?', '?'], ['?', '?', '?', '?', '?', '?'], ['?', '?', '?', '?', '?', '?'], ['?', '?', '?', '?', '?', '?']]\n",
      "\n",
      " steps of candidate elimination algorithm 6\n",
      "['sunny', 'warm', '?', 'strong', '?', '?']\n",
      "[['sunny', '?', '?', '?', '?', '?'], ['?', 'warm', '?', '?', '?', '?'], ['?', '?', '?', '?', '?', '?'], ['?', '?', '?', '?', '?', '?'], ['?', '?', '?', '?', '?', '?'], ['?', '?', '?', '?', '?', '?']]\n",
      "\n",
      " steps of candidate elimination algorithm 7\n",
      "['sunny', 'warm', '?', 'strong', '?', '?']\n",
      "[['sunny', '?', '?', '?', '?', '?'], ['?', 'warm', '?', '?', '?', '?'], ['?', '?', '?', '?', '?', '?'], ['?', '?', '?', '?', '?', '?'], ['?', '?', '?', '?', '?', '?'], ['?', '?', '?', '?', '?', '?']]\n",
      "\n",
      " steps of candidate elimination algorithm 8\n",
      "['sunny', 'warm', '?', 'strong', '?', '?']\n",
      "[['sunny', '?', '?', '?', '?', '?'], ['?', 'warm', '?', '?', '?', '?'], ['?', '?', '?', '?', '?', '?'], ['?', '?', '?', '?', '?', '?'], ['?', '?', '?', '?', '?', '?'], ['?', '?', '?', '?', '?', '?']]\n",
      "\n",
      " the final specific hypothesis ['sunny', 'warm', '?', 'strong', '?', '?']\n",
      "\n",
      " the general hypothesis [['sunny', '?', '?', '?', '?', '?'], ['?', 'warm', '?', '?', '?', '?'], ['?', '?', '?', '?', '?', '?'], ['?', '?', '?', '?', '?', '?'], ['?', '?', '?', '?', '?', '?'], ['?', '?', '?', '?', '?', '?']]\n"
     ]
    }
   ],
   "source": [
    "for i in data:\n",
    "    if i[-1]=='yes':\n",
    "        for j in range(len(s)):\n",
    "            if i[j]!=s[j]:\n",
    "                s[j]='?'\n",
    "                g[j][j]='?'\n",
    "    elif i[-1]=='no':\n",
    "        for j in range(len(s)):\n",
    "            if i[j]!=s[j]:\n",
    "                g[j][j]=s[j]\n",
    "            else:\n",
    "                g[j][j]='?'\n",
    "    print(\"\\n steps of candidate elimination algorithm\",data.index(i)+j)\n",
    "    print(s)\n",
    "    print(g)\n",
    "    gh=[]\n",
    "for i in g:\n",
    "    for j in i:\n",
    "        if j!='?':\n",
    "            gh.append(i)\n",
    "            break\n",
    "print(\"\\n the final specific hypothesis\",s)\n",
    "print(\"\\n the general hypothesis\",g)"
   ]
  },
  {
   "cell_type": "code",
   "execution_count": null,
   "metadata": {},
   "outputs": [],
   "source": []
  },
  {
   "cell_type": "code",
   "execution_count": null,
   "metadata": {},
   "outputs": [],
   "source": []
  },
  {
   "cell_type": "code",
   "execution_count": null,
   "metadata": {},
   "outputs": [],
   "source": []
  }
 ],
 "metadata": {
  "kernelspec": {
   "display_name": "Python 3",
   "language": "python",
   "name": "python3"
  },
  "language_info": {
   "codemirror_mode": {
    "name": "ipython",
    "version": 3
   },
   "file_extension": ".py",
   "mimetype": "text/x-python",
   "name": "python",
   "nbconvert_exporter": "python",
   "pygments_lexer": "ipython3",
   "version": "3.7.6"
  }
 },
 "nbformat": 4,
 "nbformat_minor": 4
}
